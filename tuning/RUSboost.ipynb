{
 "cells": [
  {
   "cell_type": "code",
   "execution_count": 1,
   "metadata": {},
   "outputs": [],
   "source": [
    "import pandas as pd\n",
    "\n",
    "from sklearn.model_selection import train_test_split\n",
    "\n",
    "from imblearn.ensemble import RUSBoostClassifier\n",
    "from sklearn.model_selection import StratifiedKFold\n",
    "from sklearn.model_selection import GridSearchCV\n",
    "from scipy.stats import randint\n",
    "from sklearn.metrics import make_scorer, roc_auc_score, f1_score\n",
    "\n",
    "from sklearn.metrics import confusion_matrix\n",
    "from sklearn.metrics import ConfusionMatrixDisplay\n",
    "from sklearn.metrics import classification_report"
   ]
  },
  {
   "cell_type": "code",
   "execution_count": 2,
   "metadata": {},
   "outputs": [],
   "source": [
    "\n",
    "df = pd.read_csv(\"fraud_reduced.csv\", index_col=0)\n",
    "\n",
    "X = df.drop(\"Class\", axis=1)\n",
    "y = df[\"Class\"]\n",
    "\n",
    "X_train, X_test, y_train, y_test = train_test_split(X, y, random_state=42,test_size=0.33, stratify=y)"
   ]
  },
  {
   "cell_type": "code",
   "execution_count": 30,
   "metadata": {},
   "outputs": [
    {
     "name": "stdout",
     "output_type": "stream",
     "text": [
      "Fitting 5 folds for each of 12 candidates, totalling 60 fits\n",
      "[CV] END algorithm=SAMME.R, learning_rate=0.1, n_estimators=80, sampling_strategy=0.05; total time=   5.3s\n",
      "[CV] END algorithm=SAMME.R, learning_rate=0.1, n_estimators=80, sampling_strategy=0.05; total time=   5.2s\n",
      "[CV] END algorithm=SAMME.R, learning_rate=0.1, n_estimators=80, sampling_strategy=0.05; total time=   5.5s\n",
      "[CV] END algorithm=SAMME.R, learning_rate=0.1, n_estimators=80, sampling_strategy=0.05; total time=   5.5s\n",
      "[CV] END algorithm=SAMME.R, learning_rate=0.1, n_estimators=80, sampling_strategy=0.05; total time=   5.4s\n",
      "[CV] END algorithm=SAMME.R, learning_rate=0.1, n_estimators=80, sampling_strategy=0.005; total time=  13.9s\n",
      "[CV] END algorithm=SAMME.R, learning_rate=0.1, n_estimators=80, sampling_strategy=0.005; total time=  14.2s\n",
      "[CV] END algorithm=SAMME.R, learning_rate=0.1, n_estimators=80, sampling_strategy=0.005; total time=  14.2s\n",
      "[CV] END algorithm=SAMME.R, learning_rate=0.1, n_estimators=80, sampling_strategy=0.005; total time=  14.1s\n",
      "[CV] END algorithm=SAMME.R, learning_rate=0.1, n_estimators=80, sampling_strategy=0.005; total time=  13.6s\n",
      "[CV] END algorithm=SAMME.R, learning_rate=0.1, n_estimators=100, sampling_strategy=0.05; total time=   6.6s\n",
      "[CV] END algorithm=SAMME.R, learning_rate=0.1, n_estimators=100, sampling_strategy=0.05; total time=   6.6s\n",
      "[CV] END algorithm=SAMME.R, learning_rate=0.1, n_estimators=100, sampling_strategy=0.05; total time=   6.6s\n",
      "[CV] END algorithm=SAMME.R, learning_rate=0.1, n_estimators=100, sampling_strategy=0.05; total time=   6.8s\n",
      "[CV] END algorithm=SAMME.R, learning_rate=0.1, n_estimators=100, sampling_strategy=0.05; total time=   6.9s\n",
      "[CV] END algorithm=SAMME.R, learning_rate=0.1, n_estimators=100, sampling_strategy=0.005; total time=  17.2s\n",
      "[CV] END algorithm=SAMME.R, learning_rate=0.1, n_estimators=100, sampling_strategy=0.005; total time=  17.8s\n",
      "[CV] END algorithm=SAMME.R, learning_rate=0.1, n_estimators=100, sampling_strategy=0.005; total time=  17.6s\n",
      "[CV] END algorithm=SAMME.R, learning_rate=0.1, n_estimators=100, sampling_strategy=0.005; total time=  17.8s\n",
      "[CV] END algorithm=SAMME.R, learning_rate=0.1, n_estimators=100, sampling_strategy=0.005; total time=  17.7s\n",
      "[CV] END algorithm=SAMME.R, learning_rate=0.5, n_estimators=80, sampling_strategy=0.05; total time=   5.5s\n",
      "[CV] END algorithm=SAMME.R, learning_rate=0.5, n_estimators=80, sampling_strategy=0.05; total time=   5.3s\n",
      "[CV] END algorithm=SAMME.R, learning_rate=0.5, n_estimators=80, sampling_strategy=0.05; total time=   5.3s\n",
      "[CV] END algorithm=SAMME.R, learning_rate=0.5, n_estimators=80, sampling_strategy=0.05; total time=   5.2s\n",
      "[CV] END algorithm=SAMME.R, learning_rate=0.5, n_estimators=80, sampling_strategy=0.05; total time=   5.3s\n",
      "[CV] END algorithm=SAMME.R, learning_rate=0.5, n_estimators=80, sampling_strategy=0.005; total time=  13.6s\n",
      "[CV] END algorithm=SAMME.R, learning_rate=0.5, n_estimators=80, sampling_strategy=0.005; total time=  14.5s\n",
      "[CV] END algorithm=SAMME.R, learning_rate=0.5, n_estimators=80, sampling_strategy=0.005; total time=  14.8s\n",
      "[CV] END algorithm=SAMME.R, learning_rate=0.5, n_estimators=80, sampling_strategy=0.005; total time=  14.4s\n",
      "[CV] END algorithm=SAMME.R, learning_rate=0.5, n_estimators=80, sampling_strategy=0.005; total time=  13.8s\n",
      "[CV] END algorithm=SAMME.R, learning_rate=0.5, n_estimators=100, sampling_strategy=0.05; total time=   7.3s\n",
      "[CV] END algorithm=SAMME.R, learning_rate=0.5, n_estimators=100, sampling_strategy=0.05; total time=   6.8s\n",
      "[CV] END algorithm=SAMME.R, learning_rate=0.5, n_estimators=100, sampling_strategy=0.05; total time=   7.1s\n",
      "[CV] END algorithm=SAMME.R, learning_rate=0.5, n_estimators=100, sampling_strategy=0.05; total time=   6.7s\n",
      "[CV] END algorithm=SAMME.R, learning_rate=0.5, n_estimators=100, sampling_strategy=0.05; total time=   6.6s\n",
      "[CV] END algorithm=SAMME.R, learning_rate=0.5, n_estimators=100, sampling_strategy=0.005; total time=  17.3s\n",
      "[CV] END algorithm=SAMME.R, learning_rate=0.5, n_estimators=100, sampling_strategy=0.005; total time=  17.7s\n",
      "[CV] END algorithm=SAMME.R, learning_rate=0.5, n_estimators=100, sampling_strategy=0.005; total time=  17.9s\n",
      "[CV] END algorithm=SAMME.R, learning_rate=0.5, n_estimators=100, sampling_strategy=0.005; total time=  17.4s\n",
      "[CV] END algorithm=SAMME.R, learning_rate=0.5, n_estimators=100, sampling_strategy=0.005; total time=  17.5s\n",
      "[CV] END algorithm=SAMME.R, learning_rate=1, n_estimators=80, sampling_strategy=0.05; total time=   5.6s\n",
      "[CV] END algorithm=SAMME.R, learning_rate=1, n_estimators=80, sampling_strategy=0.05; total time=   5.5s\n",
      "[CV] END algorithm=SAMME.R, learning_rate=1, n_estimators=80, sampling_strategy=0.05; total time=   5.4s\n",
      "[CV] END algorithm=SAMME.R, learning_rate=1, n_estimators=80, sampling_strategy=0.05; total time=   5.5s\n",
      "[CV] END algorithm=SAMME.R, learning_rate=1, n_estimators=80, sampling_strategy=0.05; total time=   5.5s\n",
      "[CV] END algorithm=SAMME.R, learning_rate=1, n_estimators=80, sampling_strategy=0.005; total time=  14.1s\n",
      "[CV] END algorithm=SAMME.R, learning_rate=1, n_estimators=80, sampling_strategy=0.005; total time=  14.1s\n",
      "[CV] END algorithm=SAMME.R, learning_rate=1, n_estimators=80, sampling_strategy=0.005; total time=  13.9s\n",
      "[CV] END algorithm=SAMME.R, learning_rate=1, n_estimators=80, sampling_strategy=0.005; total time=  13.9s\n",
      "[CV] END algorithm=SAMME.R, learning_rate=1, n_estimators=80, sampling_strategy=0.005; total time=  14.0s\n",
      "[CV] END algorithm=SAMME.R, learning_rate=1, n_estimators=100, sampling_strategy=0.05; total time=   6.8s\n",
      "[CV] END algorithm=SAMME.R, learning_rate=1, n_estimators=100, sampling_strategy=0.05; total time=   6.7s\n",
      "[CV] END algorithm=SAMME.R, learning_rate=1, n_estimators=100, sampling_strategy=0.05; total time=   6.7s\n",
      "[CV] END algorithm=SAMME.R, learning_rate=1, n_estimators=100, sampling_strategy=0.05; total time=   6.6s\n",
      "[CV] END algorithm=SAMME.R, learning_rate=1, n_estimators=100, sampling_strategy=0.05; total time=   6.7s\n",
      "[CV] END algorithm=SAMME.R, learning_rate=1, n_estimators=100, sampling_strategy=0.005; total time=  17.6s\n",
      "[CV] END algorithm=SAMME.R, learning_rate=1, n_estimators=100, sampling_strategy=0.005; total time=  18.3s\n",
      "[CV] END algorithm=SAMME.R, learning_rate=1, n_estimators=100, sampling_strategy=0.005; total time=  17.9s\n",
      "[CV] END algorithm=SAMME.R, learning_rate=1, n_estimators=100, sampling_strategy=0.005; total time=  17.9s\n",
      "[CV] END algorithm=SAMME.R, learning_rate=1, n_estimators=100, sampling_strategy=0.005; total time=  17.7s\n"
     ]
    },
    {
     "data": {
      "text/html": [
       "<style>#sk-container-id-6 {color: black;}#sk-container-id-6 pre{padding: 0;}#sk-container-id-6 div.sk-toggleable {background-color: white;}#sk-container-id-6 label.sk-toggleable__label {cursor: pointer;display: block;width: 100%;margin-bottom: 0;padding: 0.3em;box-sizing: border-box;text-align: center;}#sk-container-id-6 label.sk-toggleable__label-arrow:before {content: \"▸\";float: left;margin-right: 0.25em;color: #696969;}#sk-container-id-6 label.sk-toggleable__label-arrow:hover:before {color: black;}#sk-container-id-6 div.sk-estimator:hover label.sk-toggleable__label-arrow:before {color: black;}#sk-container-id-6 div.sk-toggleable__content {max-height: 0;max-width: 0;overflow: hidden;text-align: left;background-color: #f0f8ff;}#sk-container-id-6 div.sk-toggleable__content pre {margin: 0.2em;color: black;border-radius: 0.25em;background-color: #f0f8ff;}#sk-container-id-6 input.sk-toggleable__control:checked~div.sk-toggleable__content {max-height: 200px;max-width: 100%;overflow: auto;}#sk-container-id-6 input.sk-toggleable__control:checked~label.sk-toggleable__label-arrow:before {content: \"▾\";}#sk-container-id-6 div.sk-estimator input.sk-toggleable__control:checked~label.sk-toggleable__label {background-color: #d4ebff;}#sk-container-id-6 div.sk-label input.sk-toggleable__control:checked~label.sk-toggleable__label {background-color: #d4ebff;}#sk-container-id-6 input.sk-hidden--visually {border: 0;clip: rect(1px 1px 1px 1px);clip: rect(1px, 1px, 1px, 1px);height: 1px;margin: -1px;overflow: hidden;padding: 0;position: absolute;width: 1px;}#sk-container-id-6 div.sk-estimator {font-family: monospace;background-color: #f0f8ff;border: 1px dotted black;border-radius: 0.25em;box-sizing: border-box;margin-bottom: 0.5em;}#sk-container-id-6 div.sk-estimator:hover {background-color: #d4ebff;}#sk-container-id-6 div.sk-parallel-item::after {content: \"\";width: 100%;border-bottom: 1px solid gray;flex-grow: 1;}#sk-container-id-6 div.sk-label:hover label.sk-toggleable__label {background-color: #d4ebff;}#sk-container-id-6 div.sk-serial::before {content: \"\";position: absolute;border-left: 1px solid gray;box-sizing: border-box;top: 0;bottom: 0;left: 50%;z-index: 0;}#sk-container-id-6 div.sk-serial {display: flex;flex-direction: column;align-items: center;background-color: white;padding-right: 0.2em;padding-left: 0.2em;position: relative;}#sk-container-id-6 div.sk-item {position: relative;z-index: 1;}#sk-container-id-6 div.sk-parallel {display: flex;align-items: stretch;justify-content: center;background-color: white;position: relative;}#sk-container-id-6 div.sk-item::before, #sk-container-id-6 div.sk-parallel-item::before {content: \"\";position: absolute;border-left: 1px solid gray;box-sizing: border-box;top: 0;bottom: 0;left: 50%;z-index: -1;}#sk-container-id-6 div.sk-parallel-item {display: flex;flex-direction: column;z-index: 1;position: relative;background-color: white;}#sk-container-id-6 div.sk-parallel-item:first-child::after {align-self: flex-end;width: 50%;}#sk-container-id-6 div.sk-parallel-item:last-child::after {align-self: flex-start;width: 50%;}#sk-container-id-6 div.sk-parallel-item:only-child::after {width: 0;}#sk-container-id-6 div.sk-dashed-wrapped {border: 1px dashed gray;margin: 0 0.4em 0.5em 0.4em;box-sizing: border-box;padding-bottom: 0.4em;background-color: white;}#sk-container-id-6 div.sk-label label {font-family: monospace;font-weight: bold;display: inline-block;line-height: 1.2em;}#sk-container-id-6 div.sk-label-container {text-align: center;}#sk-container-id-6 div.sk-container {/* jupyter's `normalize.less` sets `[hidden] { display: none; }` but bootstrap.min.css set `[hidden] { display: none !important; }` so we also need the `!important` here to be able to override the default hidden behavior on the sphinx rendered scikit-learn.org. See: https://github.com/scikit-learn/scikit-learn/issues/21755 */display: inline-block !important;position: relative;}#sk-container-id-6 div.sk-text-repr-fallback {display: none;}</style><div id=\"sk-container-id-6\" class=\"sk-top-container\"><div class=\"sk-text-repr-fallback\"><pre>GridSearchCV(cv=StratifiedKFold(n_splits=5, random_state=None, shuffle=True),\n",
       "             estimator=RUSBoostClassifier(), n_jobs=1,\n",
       "             param_grid={&#x27;algorithm&#x27;: [&#x27;SAMME.R&#x27;],\n",
       "                         &#x27;learning_rate&#x27;: [0.1, 0.5, 1],\n",
       "                         &#x27;n_estimators&#x27;: [80, 100],\n",
       "                         &#x27;sampling_strategy&#x27;: [0.05, 0.005]},\n",
       "             scoring=make_scorer(f1_score), verbose=2)</pre><b>In a Jupyter environment, please rerun this cell to show the HTML representation or trust the notebook. <br />On GitHub, the HTML representation is unable to render, please try loading this page with nbviewer.org.</b></div><div class=\"sk-container\" hidden><div class=\"sk-item sk-dashed-wrapped\"><div class=\"sk-label-container\"><div class=\"sk-label sk-toggleable\"><input class=\"sk-toggleable__control sk-hidden--visually\" id=\"sk-estimator-id-12\" type=\"checkbox\" ><label for=\"sk-estimator-id-12\" class=\"sk-toggleable__label sk-toggleable__label-arrow\">GridSearchCV</label><div class=\"sk-toggleable__content\"><pre>GridSearchCV(cv=StratifiedKFold(n_splits=5, random_state=None, shuffle=True),\n",
       "             estimator=RUSBoostClassifier(), n_jobs=1,\n",
       "             param_grid={&#x27;algorithm&#x27;: [&#x27;SAMME.R&#x27;],\n",
       "                         &#x27;learning_rate&#x27;: [0.1, 0.5, 1],\n",
       "                         &#x27;n_estimators&#x27;: [80, 100],\n",
       "                         &#x27;sampling_strategy&#x27;: [0.05, 0.005]},\n",
       "             scoring=make_scorer(f1_score), verbose=2)</pre></div></div></div><div class=\"sk-parallel\"><div class=\"sk-parallel-item\"><div class=\"sk-item\"><div class=\"sk-label-container\"><div class=\"sk-label sk-toggleable\"><input class=\"sk-toggleable__control sk-hidden--visually\" id=\"sk-estimator-id-13\" type=\"checkbox\" ><label for=\"sk-estimator-id-13\" class=\"sk-toggleable__label sk-toggleable__label-arrow\">estimator: RUSBoostClassifier</label><div class=\"sk-toggleable__content\"><pre>RUSBoostClassifier()</pre></div></div></div><div class=\"sk-serial\"><div class=\"sk-item\"><div class=\"sk-estimator sk-toggleable\"><input class=\"sk-toggleable__control sk-hidden--visually\" id=\"sk-estimator-id-14\" type=\"checkbox\" ><label for=\"sk-estimator-id-14\" class=\"sk-toggleable__label sk-toggleable__label-arrow\">RUSBoostClassifier</label><div class=\"sk-toggleable__content\"><pre>RUSBoostClassifier()</pre></div></div></div></div></div></div></div></div></div></div>"
      ],
      "text/plain": [
       "GridSearchCV(cv=StratifiedKFold(n_splits=5, random_state=None, shuffle=True),\n",
       "             estimator=RUSBoostClassifier(), n_jobs=1,\n",
       "             param_grid={'algorithm': ['SAMME.R'],\n",
       "                         'learning_rate': [0.1, 0.5, 1],\n",
       "                         'n_estimators': [80, 100],\n",
       "                         'sampling_strategy': [0.05, 0.005]},\n",
       "             scoring=make_scorer(f1_score), verbose=2)"
      ]
     },
     "execution_count": 30,
     "metadata": {},
     "output_type": "execute_result"
    }
   ],
   "source": [
    "\n",
    "param_grid = {\n",
    "    'n_estimators': [80, 100],\n",
    "    'learning_rate': [0.1, 0.5,1],\n",
    "    'algorithm': ['SAMME.R'],\n",
    "    'sampling_strategy' : [0.05,0.005]\n",
    "}\n",
    "\n",
    "rnd_clf = RUSBoostClassifier()\n",
    "param_search = GridSearchCV(\n",
    "    rnd_clf,\n",
    "    param_grid=param_grid,\n",
    "    cv=StratifiedKFold(n_splits=5, shuffle=True, random_state=None),  # Cross-validation strategy\n",
    "    n_jobs=1,  # Use all available CPU cores\n",
    "    scoring = make_scorer(f1_score),\n",
    "    verbose=2\n",
    ")\n",
    "\n",
    "\n",
    "\n",
    "param_search.fit(X_train, y_train)"
   ]
  },
  {
   "cell_type": "code",
   "execution_count": 31,
   "metadata": {},
   "outputs": [
    {
     "data": {
      "text/plain": [
       "{'algorithm': 'SAMME.R',\n",
       " 'learning_rate': 0.5,\n",
       " 'n_estimators': 80,\n",
       " 'sampling_strategy': 0.005}"
      ]
     },
     "execution_count": 31,
     "metadata": {},
     "output_type": "execute_result"
    }
   ],
   "source": [
    "param_search.best_params_"
   ]
  },
  {
   "cell_type": "code",
   "execution_count": 32,
   "metadata": {},
   "outputs": [
    {
     "name": "stdout",
     "output_type": "stream",
     "text": [
      "ROC AUC 0.8131757936507936 - Parameters: {'algorithm': 'SAMME.R', 'learning_rate': 0.5, 'n_estimators': 80, 'sampling_strategy': 0.005}\n",
      "ROC AUC 0.8126891200717793 - Parameters: {'algorithm': 'SAMME.R', 'learning_rate': 0.1, 'n_estimators': 100, 'sampling_strategy': 0.005}\n",
      "ROC AUC 0.8094367447396559 - Parameters: {'algorithm': 'SAMME.R', 'learning_rate': 0.1, 'n_estimators': 80, 'sampling_strategy': 0.005}\n",
      "ROC AUC 0.7868762808796841 - Parameters: {'algorithm': 'SAMME.R', 'learning_rate': 0.5, 'n_estimators': 100, 'sampling_strategy': 0.005}\n",
      "ROC AUC 0.7770877156665377 - Parameters: {'algorithm': 'SAMME.R', 'learning_rate': 1, 'n_estimators': 100, 'sampling_strategy': 0.005}\n",
      "ROC AUC 0.770095210928827 - Parameters: {'algorithm': 'SAMME.R', 'learning_rate': 1, 'n_estimators': 80, 'sampling_strategy': 0.005}\n",
      "ROC AUC 0.7134493526898591 - Parameters: {'algorithm': 'SAMME.R', 'learning_rate': 0.1, 'n_estimators': 80, 'sampling_strategy': 0.05}\n",
      "ROC AUC 0.7032611577551923 - Parameters: {'algorithm': 'SAMME.R', 'learning_rate': 0.1, 'n_estimators': 100, 'sampling_strategy': 0.05}\n",
      "ROC AUC 0.6600633139386382 - Parameters: {'algorithm': 'SAMME.R', 'learning_rate': 0.5, 'n_estimators': 100, 'sampling_strategy': 0.05}\n",
      "ROC AUC 0.6258049940393977 - Parameters: {'algorithm': 'SAMME.R', 'learning_rate': 0.5, 'n_estimators': 80, 'sampling_strategy': 0.05}\n",
      "ROC AUC 0.573340627886571 - Parameters: {'algorithm': 'SAMME.R', 'learning_rate': 1, 'n_estimators': 80, 'sampling_strategy': 0.05}\n",
      "ROC AUC 0.5711552999165821 - Parameters: {'algorithm': 'SAMME.R', 'learning_rate': 1, 'n_estimators': 100, 'sampling_strategy': 0.05}\n"
     ]
    }
   ],
   "source": [
    "cvres = param_search.cv_results_\n",
    "results = [(mean_score, params) for mean_score, params in zip(cvres[\"mean_test_score\"], cvres[\"params\"])]\n",
    "results.sort(reverse=True, key=lambda x: x[0])\n",
    "for mean_score, params in results:\n",
    "    print(\"ROC AUC\", mean_score, \"-\", \"Parameters:\", params)"
   ]
  },
  {
   "cell_type": "code",
   "execution_count": 33,
   "metadata": {},
   "outputs": [
    {
     "data": {
      "text/html": [
       "<style>#sk-container-id-7 {color: black;}#sk-container-id-7 pre{padding: 0;}#sk-container-id-7 div.sk-toggleable {background-color: white;}#sk-container-id-7 label.sk-toggleable__label {cursor: pointer;display: block;width: 100%;margin-bottom: 0;padding: 0.3em;box-sizing: border-box;text-align: center;}#sk-container-id-7 label.sk-toggleable__label-arrow:before {content: \"▸\";float: left;margin-right: 0.25em;color: #696969;}#sk-container-id-7 label.sk-toggleable__label-arrow:hover:before {color: black;}#sk-container-id-7 div.sk-estimator:hover label.sk-toggleable__label-arrow:before {color: black;}#sk-container-id-7 div.sk-toggleable__content {max-height: 0;max-width: 0;overflow: hidden;text-align: left;background-color: #f0f8ff;}#sk-container-id-7 div.sk-toggleable__content pre {margin: 0.2em;color: black;border-radius: 0.25em;background-color: #f0f8ff;}#sk-container-id-7 input.sk-toggleable__control:checked~div.sk-toggleable__content {max-height: 200px;max-width: 100%;overflow: auto;}#sk-container-id-7 input.sk-toggleable__control:checked~label.sk-toggleable__label-arrow:before {content: \"▾\";}#sk-container-id-7 div.sk-estimator input.sk-toggleable__control:checked~label.sk-toggleable__label {background-color: #d4ebff;}#sk-container-id-7 div.sk-label input.sk-toggleable__control:checked~label.sk-toggleable__label {background-color: #d4ebff;}#sk-container-id-7 input.sk-hidden--visually {border: 0;clip: rect(1px 1px 1px 1px);clip: rect(1px, 1px, 1px, 1px);height: 1px;margin: -1px;overflow: hidden;padding: 0;position: absolute;width: 1px;}#sk-container-id-7 div.sk-estimator {font-family: monospace;background-color: #f0f8ff;border: 1px dotted black;border-radius: 0.25em;box-sizing: border-box;margin-bottom: 0.5em;}#sk-container-id-7 div.sk-estimator:hover {background-color: #d4ebff;}#sk-container-id-7 div.sk-parallel-item::after {content: \"\";width: 100%;border-bottom: 1px solid gray;flex-grow: 1;}#sk-container-id-7 div.sk-label:hover label.sk-toggleable__label {background-color: #d4ebff;}#sk-container-id-7 div.sk-serial::before {content: \"\";position: absolute;border-left: 1px solid gray;box-sizing: border-box;top: 0;bottom: 0;left: 50%;z-index: 0;}#sk-container-id-7 div.sk-serial {display: flex;flex-direction: column;align-items: center;background-color: white;padding-right: 0.2em;padding-left: 0.2em;position: relative;}#sk-container-id-7 div.sk-item {position: relative;z-index: 1;}#sk-container-id-7 div.sk-parallel {display: flex;align-items: stretch;justify-content: center;background-color: white;position: relative;}#sk-container-id-7 div.sk-item::before, #sk-container-id-7 div.sk-parallel-item::before {content: \"\";position: absolute;border-left: 1px solid gray;box-sizing: border-box;top: 0;bottom: 0;left: 50%;z-index: -1;}#sk-container-id-7 div.sk-parallel-item {display: flex;flex-direction: column;z-index: 1;position: relative;background-color: white;}#sk-container-id-7 div.sk-parallel-item:first-child::after {align-self: flex-end;width: 50%;}#sk-container-id-7 div.sk-parallel-item:last-child::after {align-self: flex-start;width: 50%;}#sk-container-id-7 div.sk-parallel-item:only-child::after {width: 0;}#sk-container-id-7 div.sk-dashed-wrapped {border: 1px dashed gray;margin: 0 0.4em 0.5em 0.4em;box-sizing: border-box;padding-bottom: 0.4em;background-color: white;}#sk-container-id-7 div.sk-label label {font-family: monospace;font-weight: bold;display: inline-block;line-height: 1.2em;}#sk-container-id-7 div.sk-label-container {text-align: center;}#sk-container-id-7 div.sk-container {/* jupyter's `normalize.less` sets `[hidden] { display: none; }` but bootstrap.min.css set `[hidden] { display: none !important; }` so we also need the `!important` here to be able to override the default hidden behavior on the sphinx rendered scikit-learn.org. See: https://github.com/scikit-learn/scikit-learn/issues/21755 */display: inline-block !important;position: relative;}#sk-container-id-7 div.sk-text-repr-fallback {display: none;}</style><div id=\"sk-container-id-7\" class=\"sk-top-container\"><div class=\"sk-text-repr-fallback\"><pre>RUSBoostClassifier(learning_rate=0.5, n_estimators=80, sampling_strategy=0.005)</pre><b>In a Jupyter environment, please rerun this cell to show the HTML representation or trust the notebook. <br />On GitHub, the HTML representation is unable to render, please try loading this page with nbviewer.org.</b></div><div class=\"sk-container\" hidden><div class=\"sk-item\"><div class=\"sk-estimator sk-toggleable\"><input class=\"sk-toggleable__control sk-hidden--visually\" id=\"sk-estimator-id-15\" type=\"checkbox\" checked><label for=\"sk-estimator-id-15\" class=\"sk-toggleable__label sk-toggleable__label-arrow\">RUSBoostClassifier</label><div class=\"sk-toggleable__content\"><pre>RUSBoostClassifier(learning_rate=0.5, n_estimators=80, sampling_strategy=0.005)</pre></div></div></div></div></div>"
      ],
      "text/plain": [
       "RUSBoostClassifier(learning_rate=0.5, n_estimators=80, sampling_strategy=0.005)"
      ]
     },
     "execution_count": 33,
     "metadata": {},
     "output_type": "execute_result"
    }
   ],
   "source": [
    "param_search.best_estimator_"
   ]
  },
  {
   "cell_type": "code",
   "execution_count": 34,
   "metadata": {},
   "outputs": [],
   "source": [
    "clf_rnd = param_search.best_estimator_"
   ]
  },
  {
   "cell_type": "code",
   "execution_count": 35,
   "metadata": {},
   "outputs": [],
   "source": [
    "clf_rnd = param_search.best_estimator_"
   ]
  },
  {
   "cell_type": "code",
   "execution_count": 36,
   "metadata": {},
   "outputs": [],
   "source": [
    "y_pred = clf_rnd.predict(X_test)"
   ]
  },
  {
   "cell_type": "code",
   "execution_count": 37,
   "metadata": {},
   "outputs": [
    {
     "name": "stdout",
     "output_type": "stream",
     "text": [
      "[[93808    17]\n",
      " [   48   114]]\n"
     ]
    },
    {
     "data": {
      "text/plain": [
       "<sklearn.metrics._plot.confusion_matrix.ConfusionMatrixDisplay at 0x188ea8d6d50>"
      ]
     },
     "execution_count": 37,
     "metadata": {},
     "output_type": "execute_result"
    },
    {
     "data": {
      "image/png": "[encoded data removed]",
      "text/plain": [
       "<Figure size 640x480 with 2 Axes>"
      ]
     },
     "metadata": {},
     "output_type": "display_data"
    }
   ],
   "source": [
    "cm = confusion_matrix(y_test, y_pred)\n",
    "print(cm)\n",
    "\n",
    "\n",
    "disp = ConfusionMatrixDisplay(confusion_matrix=cm, display_labels=clf_rnd.classes_)\n",
    "disp.plot()"
   ]
  },
  {
   "cell_type": "code",
   "execution_count": 22,
   "metadata": {},
   "outputs": [
    {
     "name": "stdout",
     "output_type": "stream",
     "text": [
      "Classification Report:\n",
      "              precision    recall  f1-score   support\n",
      "\n",
      "           0       1.00      1.00      1.00     93825\n",
      "           1       0.27      0.83      0.41       162\n",
      "\n",
      "    accuracy                           1.00     93987\n",
      "   macro avg       0.63      0.91      0.70     93987\n",
      "weighted avg       1.00      1.00      1.00     93987\n",
      "\n"
     ]
    }
   ],
   "source": [
    "y_pred = clf_rnd.predict(X_test)\n",
    "\n",
    "# Calculate and display classification report\n",
    "class_report = classification_report(y_test, y_pred)\n",
    "print(\"Classification Report:\")\n",
    "print(class_report)"
   ]
  },
  {
   "cell_type": "code",
   "execution_count": 38,
   "metadata": {},
   "outputs": [
    {
     "data": {
      "text/plain": [
       "['RUSboost.pkl']"
      ]
     },
     "execution_count": 38,
     "metadata": {},
     "output_type": "execute_result"
    }
   ],
   "source": [
    "import joblib\n",
    "\n",
    "joblib.dump(value= clf_rnd, filename='RUSboost.pkl')"
   ]
  },
  {
   "cell_type": "code",
   "execution_count": null,
   "metadata": {},
   "outputs": [],
   "source": []
  }
 ],
 "metadata": {
  "kernelspec": {
   "display_name": "Python 3",
   "language": "python",
   "name": "python3"
  },
  "language_info": {
   "codemirror_mode": {
    "name": "ipython",
    "version": 3
   },
   "file_extension": ".py",
   "mimetype": "text/x-python",
   "name": "python",
   "nbconvert_exporter": "python",
   "pygments_lexer": "ipython3",
   "version": "3.11.2"
  }
 },
 "nbformat": 4,
 "nbformat_minor": 2
}
