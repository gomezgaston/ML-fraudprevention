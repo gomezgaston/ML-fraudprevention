{
 "cells": [
  {
   "cell_type": "code",
   "execution_count": 26,
   "metadata": {},
   "outputs": [],
   "source": [
    "import pandas as pd\n",
    "\n",
    "import matplotlib.pyplot as plt \n",
    "import seaborn as sns\n",
    "\n",
    "\n",
    "from sklearn.model_selection import train_test_split\n",
    "from sklearn.ensemble import IsolationForest\n",
    "from sklearn.model_selection import StratifiedKFold\n",
    "from sklearn.model_selection import GridSearchCV\n",
    "from scipy.stats import randint,uniform\n",
    "from sklearn.metrics import make_scorer, roc_auc_score, f1_score"
   ]
  },
  {
   "cell_type": "code",
   "execution_count": 36,
   "metadata": {},
   "outputs": [],
   "source": [
    "# Creamos nuestro propio estimador para que la salida del algoritmo este comprendida entre 0 y 1\n",
    "from sklearn.base import BaseEstimator\n",
    "\n",
    "class IsolationForestCustom(BaseEstimator):\n",
    "    def __init__(self, max_samples=100, contamination=0.1):\n",
    "        self.contamination = contamination\n",
    "        self.max_samples = max_samples\n",
    "        self._ift_clf = None\n",
    "        \n",
    "    def fit(self, X, y=None):\n",
    "        self._ift_clf = IsolationForest(max_samples=self.max_samples, \n",
    "                                        contamination=self.contamination)\n",
    "        self._ift_clf.fit(X) \n",
    "        return self\n",
    "    \n",
    "    def predict(self, X, y=None):\n",
    "        preds = self._ift_clf.predict(X)\n",
    "        preds[preds==1] = 0\n",
    "        preds[preds==-1] = 1\n",
    "        return preds\n",
    "    \n",
    "    def get_params(self, deep=True):\n",
    "        return {\"contamination\": self.contamination,\n",
    "               \"max_samples\": self.max_samples}\n",
    "\n",
    "    def set_params(self, **parameters):\n",
    "        for parameter, value in parameters.items():\n",
    "            setattr(self, parameter, value)\n",
    "        return self"
   ]
  },
  {
   "cell_type": "code",
   "execution_count": 37,
   "metadata": {},
   "outputs": [
    {
     "data": {
      "text/html": [
       "<style>#sk-container-id-5 {color: black;}#sk-container-id-5 pre{padding: 0;}#sk-container-id-5 div.sk-toggleable {background-color: white;}#sk-container-id-5 label.sk-toggleable__label {cursor: pointer;display: block;width: 100%;margin-bottom: 0;padding: 0.3em;box-sizing: border-box;text-align: center;}#sk-container-id-5 label.sk-toggleable__label-arrow:before {content: \"▸\";float: left;margin-right: 0.25em;color: #696969;}#sk-container-id-5 label.sk-toggleable__label-arrow:hover:before {color: black;}#sk-container-id-5 div.sk-estimator:hover label.sk-toggleable__label-arrow:before {color: black;}#sk-container-id-5 div.sk-toggleable__content {max-height: 0;max-width: 0;overflow: hidden;text-align: left;background-color: #f0f8ff;}#sk-container-id-5 div.sk-toggleable__content pre {margin: 0.2em;color: black;border-radius: 0.25em;background-color: #f0f8ff;}#sk-container-id-5 input.sk-toggleable__control:checked~div.sk-toggleable__content {max-height: 200px;max-width: 100%;overflow: auto;}#sk-container-id-5 input.sk-toggleable__control:checked~label.sk-toggleable__label-arrow:before {content: \"▾\";}#sk-container-id-5 div.sk-estimator input.sk-toggleable__control:checked~label.sk-toggleable__label {background-color: #d4ebff;}#sk-container-id-5 div.sk-label input.sk-toggleable__control:checked~label.sk-toggleable__label {background-color: #d4ebff;}#sk-container-id-5 input.sk-hidden--visually {border: 0;clip: rect(1px 1px 1px 1px);clip: rect(1px, 1px, 1px, 1px);height: 1px;margin: -1px;overflow: hidden;padding: 0;position: absolute;width: 1px;}#sk-container-id-5 div.sk-estimator {font-family: monospace;background-color: #f0f8ff;border: 1px dotted black;border-radius: 0.25em;box-sizing: border-box;margin-bottom: 0.5em;}#sk-container-id-5 div.sk-estimator:hover {background-color: #d4ebff;}#sk-container-id-5 div.sk-parallel-item::after {content: \"\";width: 100%;border-bottom: 1px solid gray;flex-grow: 1;}#sk-container-id-5 div.sk-label:hover label.sk-toggleable__label {background-color: #d4ebff;}#sk-container-id-5 div.sk-serial::before {content: \"\";position: absolute;border-left: 1px solid gray;box-sizing: border-box;top: 0;bottom: 0;left: 50%;z-index: 0;}#sk-container-id-5 div.sk-serial {display: flex;flex-direction: column;align-items: center;background-color: white;padding-right: 0.2em;padding-left: 0.2em;position: relative;}#sk-container-id-5 div.sk-item {position: relative;z-index: 1;}#sk-container-id-5 div.sk-parallel {display: flex;align-items: stretch;justify-content: center;background-color: white;position: relative;}#sk-container-id-5 div.sk-item::before, #sk-container-id-5 div.sk-parallel-item::before {content: \"\";position: absolute;border-left: 1px solid gray;box-sizing: border-box;top: 0;bottom: 0;left: 50%;z-index: -1;}#sk-container-id-5 div.sk-parallel-item {display: flex;flex-direction: column;z-index: 1;position: relative;background-color: white;}#sk-container-id-5 div.sk-parallel-item:first-child::after {align-self: flex-end;width: 50%;}#sk-container-id-5 div.sk-parallel-item:last-child::after {align-self: flex-start;width: 50%;}#sk-container-id-5 div.sk-parallel-item:only-child::after {width: 0;}#sk-container-id-5 div.sk-dashed-wrapped {border: 1px dashed gray;margin: 0 0.4em 0.5em 0.4em;box-sizing: border-box;padding-bottom: 0.4em;background-color: white;}#sk-container-id-5 div.sk-label label {font-family: monospace;font-weight: bold;display: inline-block;line-height: 1.2em;}#sk-container-id-5 div.sk-label-container {text-align: center;}#sk-container-id-5 div.sk-container {/* jupyter's `normalize.less` sets `[hidden] { display: none; }` but bootstrap.min.css set `[hidden] { display: none !important; }` so we also need the `!important` here to be able to override the default hidden behavior on the sphinx rendered scikit-learn.org. See: https://github.com/scikit-learn/scikit-learn/issues/21755 */display: inline-block !important;position: relative;}#sk-container-id-5 div.sk-text-repr-fallback {display: none;}</style><div id=\"sk-container-id-5\" class=\"sk-top-container\"><div class=\"sk-text-repr-fallback\"><pre>GridSearchCV(cv=10, estimator=IsolationForestCustom(),\n",
       "             param_grid={&#x27;contamination&#x27;: [0.001, 0.01, 0.1],\n",
       "                         &#x27;max_features&#x27;: [0.9, 0.8, 1],\n",
       "                         &#x27;max_samples&#x27;: [100, 200, 250, 300]},\n",
       "             return_train_score=True, scoring=&#x27;f1&#x27;)</pre><b>In a Jupyter environment, please rerun this cell to show the HTML representation or trust the notebook. <br />On GitHub, the HTML representation is unable to render, please try loading this page with nbviewer.org.</b></div><div class=\"sk-container\" hidden><div class=\"sk-item sk-dashed-wrapped\"><div class=\"sk-label-container\"><div class=\"sk-label sk-toggleable\"><input class=\"sk-toggleable__control sk-hidden--visually\" id=\"sk-estimator-id-13\" type=\"checkbox\" ><label for=\"sk-estimator-id-13\" class=\"sk-toggleable__label sk-toggleable__label-arrow\">GridSearchCV</label><div class=\"sk-toggleable__content\"><pre>GridSearchCV(cv=10, estimator=IsolationForestCustom(),\n",
       "             param_grid={&#x27;contamination&#x27;: [0.001, 0.01, 0.1],\n",
       "                         &#x27;max_features&#x27;: [0.9, 0.8, 1],\n",
       "                         &#x27;max_samples&#x27;: [100, 200, 250, 300]},\n",
       "             return_train_score=True, scoring=&#x27;f1&#x27;)</pre></div></div></div><div class=\"sk-parallel\"><div class=\"sk-parallel-item\"><div class=\"sk-item\"><div class=\"sk-label-container\"><div class=\"sk-label sk-toggleable\"><input class=\"sk-toggleable__control sk-hidden--visually\" id=\"sk-estimator-id-14\" type=\"checkbox\" ><label for=\"sk-estimator-id-14\" class=\"sk-toggleable__label sk-toggleable__label-arrow\">estimator: IsolationForestCustom</label><div class=\"sk-toggleable__content\"><pre>IsolationForestCustom()</pre></div></div></div><div class=\"sk-serial\"><div class=\"sk-item\"><div class=\"sk-estimator sk-toggleable\"><input class=\"sk-toggleable__control sk-hidden--visually\" id=\"sk-estimator-id-15\" type=\"checkbox\" ><label for=\"sk-estimator-id-15\" class=\"sk-toggleable__label sk-toggleable__label-arrow\">IsolationForestCustom</label><div class=\"sk-toggleable__content\"><pre>IsolationForestCustom()</pre></div></div></div></div></div></div></div></div></div></div>"
      ],
      "text/plain": [
       "GridSearchCV(cv=10, estimator=IsolationForestCustom(),\n",
       "             param_grid={'contamination': [0.001, 0.01, 0.1],\n",
       "                         'max_features': [0.9, 0.8, 1],\n",
       "                         'max_samples': [100, 200, 250, 300]},\n",
       "             return_train_score=True, scoring='f1')"
      ]
     },
     "execution_count": 37,
     "metadata": {},
     "output_type": "execute_result"
    }
   ],
   "source": [
    "# Load your dataset\n",
    "df = pd.read_csv(\"fraud_reduced.csv\", index_col=0)\n",
    "\n",
    "# Split your data into features (X) and the target variable (y)\n",
    "X = df.drop(\"Class\", axis=1)\n",
    "y = df[\"Class\"].copy()\n",
    "\n",
    "# Split the data into training and testing sets\n",
    "X_train, X_test, y_train, y_test = train_test_split(X, y, random_state=42, test_size=0.33, stratify=y)\n",
    "\n",
    "param_grid = {\n",
    "    'max_samples': [100, 200, 250, 300],\n",
    "    'contamination': [0.001, 0.01, 0.1],\n",
    "    'max_features': [0.9, 0.8, 1]}\n",
    "# Initialize the Isolation Forest model\n",
    "ift_clf = IsolationForestCustom()\n",
    "\n",
    "# Fit the Isolation Forest model to the entire dataset (X)\n",
    "ift_clf.fit(X)\n",
    "\n",
    "# Create a scoring function for RandomizedSearchCV\n",
    "scorer = 'f1'\n",
    "\n",
    "# Initialize and run RandomizedSearchCV\n",
    "grid_dt_estimator = GridSearchCV(ift_clf,\n",
    "                                       param_grid=param_grid,\n",
    "                                       scoring= scorer,\n",
    "                                       refit=True,\n",
    "                                       cv=10,\n",
    "                                       return_train_score=True)\n",
    "grid_dt_estimator.fit(X_train, y_train)\n",
    "\n"
   ]
  },
  {
   "cell_type": "code",
   "execution_count": 38,
   "metadata": {},
   "outputs": [
    {
     "data": {
      "text/plain": [
       "{'contamination': 0.001, 'max_features': 0.9, 'max_samples': 250}"
      ]
     },
     "execution_count": 38,
     "metadata": {},
     "output_type": "execute_result"
    }
   ],
   "source": [
    "grid_dt_estimator.best_params_"
   ]
  },
  {
   "cell_type": "code",
   "execution_count": 44,
   "metadata": {},
   "outputs": [
    {
     "name": "stdout",
     "output_type": "stream",
     "text": [
      "f1 0.6029967085929941 - Parameters: {'contamination': 0.001, 'max_features': 0.9, 'max_samples': 250}\n",
      "f1 0.598427765352184 - Parameters: {'contamination': 0.001, 'max_features': 1, 'max_samples': 300}\n",
      "f1 0.5983991505646505 - Parameters: {'contamination': 0.001, 'max_features': 0.8, 'max_samples': 300}\n",
      "f1 0.5961348439114312 - Parameters: {'contamination': 0.001, 'max_features': 0.8, 'max_samples': 100}\n",
      "f1 0.5932505287702021 - Parameters: {'contamination': 0.001, 'max_features': 0.9, 'max_samples': 300}\n",
      "f1 0.592699637038155 - Parameters: {'contamination': 0.001, 'max_features': 0.9, 'max_samples': 100}\n",
      "f1 0.5891818803721719 - Parameters: {'contamination': 0.001, 'max_features': 0.8, 'max_samples': 250}\n",
      "f1 0.587582235145599 - Parameters: {'contamination': 0.001, 'max_features': 1, 'max_samples': 100}\n",
      "f1 0.5863915452025539 - Parameters: {'contamination': 0.001, 'max_features': 0.9, 'max_samples': 200}\n",
      "f1 0.5848160133421925 - Parameters: {'contamination': 0.001, 'max_features': 0.8, 'max_samples': 200}\n",
      "f1 0.5770591177149458 - Parameters: {'contamination': 0.001, 'max_features': 1, 'max_samples': 250}\n",
      "f1 0.5713830721998953 - Parameters: {'contamination': 0.001, 'max_features': 1, 'max_samples': 200}\n",
      "f1 0.2525686481567596 - Parameters: {'contamination': 0.01, 'max_features': 0.9, 'max_samples': 300}\n",
      "f1 0.2521901145748749 - Parameters: {'contamination': 0.01, 'max_features': 0.8, 'max_samples': 200}\n",
      "f1 0.2520450511313242 - Parameters: {'contamination': 0.01, 'max_features': 0.9, 'max_samples': 250}\n",
      "f1 0.252034801729538 - Parameters: {'contamination': 0.01, 'max_features': 1, 'max_samples': 250}\n",
      "f1 0.2516197173797359 - Parameters: {'contamination': 0.01, 'max_features': 1, 'max_samples': 100}\n",
      "f1 0.2512390911122869 - Parameters: {'contamination': 0.01, 'max_features': 0.8, 'max_samples': 100}\n",
      "f1 0.2511691496883572 - Parameters: {'contamination': 0.01, 'max_features': 0.8, 'max_samples': 300}\n",
      "f1 0.2508486755189643 - Parameters: {'contamination': 0.01, 'max_features': 0.9, 'max_samples': 100}\n",
      "f1 0.24892464268265896 - Parameters: {'contamination': 0.01, 'max_features': 1, 'max_samples': 200}\n",
      "f1 0.24858703641446445 - Parameters: {'contamination': 0.01, 'max_features': 0.8, 'max_samples': 250}\n",
      "f1 0.24729149378147502 - Parameters: {'contamination': 0.01, 'max_features': 1, 'max_samples': 300}\n",
      "f1 0.24639140845772226 - Parameters: {'contamination': 0.01, 'max_features': 0.9, 'max_samples': 200}\n",
      "f1 0.0312010480796067 - Parameters: {'contamination': 0.1, 'max_features': 0.8, 'max_samples': 300}\n",
      "f1 0.03114081589342641 - Parameters: {'contamination': 0.1, 'max_features': 0.9, 'max_samples': 200}\n",
      "f1 0.031094319884382014 - Parameters: {'contamination': 0.1, 'max_features': 0.8, 'max_samples': 100}\n",
      "f1 0.031054928428554444 - Parameters: {'contamination': 0.1, 'max_features': 0.8, 'max_samples': 200}\n",
      "f1 0.03104971331519186 - Parameters: {'contamination': 0.1, 'max_features': 0.9, 'max_samples': 300}\n",
      "f1 0.030986818391852394 - Parameters: {'contamination': 0.1, 'max_features': 1, 'max_samples': 300}\n",
      "f1 0.030925922696923198 - Parameters: {'contamination': 0.1, 'max_features': 0.9, 'max_samples': 100}\n",
      "f1 0.030923587930927247 - Parameters: {'contamination': 0.1, 'max_features': 1, 'max_samples': 200}\n",
      "f1 0.03084574955880871 - Parameters: {'contamination': 0.1, 'max_features': 0.9, 'max_samples': 250}\n",
      "f1 0.030843122116638054 - Parameters: {'contamination': 0.1, 'max_features': 1, 'max_samples': 250}\n",
      "f1 0.03082841452217413 - Parameters: {'contamination': 0.1, 'max_features': 1, 'max_samples': 100}\n",
      "f1 0.030791592016619677 - Parameters: {'contamination': 0.1, 'max_features': 0.8, 'max_samples': 250}\n"
     ]
    }
   ],
   "source": [
    "cvres = grid_dt_estimator.cv_results_\n",
    "results = [(mean_score, params) for mean_score, params in zip(cvres[\"mean_test_score\"], cvres[\"params\"])]\n",
    "results.sort(reverse=True, key=lambda x: x[0])\n",
    "for mean_score, params in results:\n",
    "    print(\"f1\", mean_score, \"-\", \"Parameters:\", params)"
   ]
  },
  {
   "cell_type": "code",
   "execution_count": 40,
   "metadata": {},
   "outputs": [],
   "source": [
    "isoaltion_forest = grid_dt_estimator.best_estimator_"
   ]
  },
  {
   "cell_type": "code",
   "execution_count": 41,
   "metadata": {},
   "outputs": [],
   "source": [
    "anomalies = isoaltion_forest.predict(X)"
   ]
  },
  {
   "cell_type": "code",
   "execution_count": 50,
   "metadata": {},
   "outputs": [
    {
     "name": "stdout",
     "output_type": "stream",
     "text": [
      "Total de anomalías identificadas: 285\n"
     ]
    }
   ],
   "source": [
    "print(\"Total de anomalías identificadas:\", len(y[anomalies==1]))"
   ]
  },
  {
   "cell_type": "code",
   "execution_count": 51,
   "metadata": {},
   "outputs": [
    {
     "data": {
      "text/plain": [
       "Class\n",
       "1    239\n",
       "0     46\n",
       "Name: count, dtype: int64"
      ]
     },
     "execution_count": 51,
     "metadata": {},
     "output_type": "execute_result"
    }
   ],
   "source": [
    "y[anomalies==1].value_counts()"
   ]
  },
  {
   "cell_type": "code",
   "execution_count": null,
   "metadata": {},
   "outputs": [],
   "source": []
  }
 ],
 "metadata": {
  "kernelspec": {
   "display_name": "Python 3",
   "language": "python",
   "name": "python3"
  },
  "language_info": {
   "codemirror_mode": {
    "name": "ipython",
    "version": 3
   },
   "file_extension": ".py",
   "mimetype": "text/x-python",
   "name": "python",
   "nbconvert_exporter": "python",
   "pygments_lexer": "ipython3",
   "version": "3.11.2"
  }
 },
 "nbformat": 4,
 "nbformat_minor": 2
}
